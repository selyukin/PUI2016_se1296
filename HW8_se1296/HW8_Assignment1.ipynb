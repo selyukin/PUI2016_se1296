{
 "cells": [
  {
   "cell_type": "markdown",
   "metadata": {},
   "source": [
    "# 1. Define a research question:\n",
    "\n",
    "## Which community districts in New York City show the highest number of 311 complaints?"
   ]
  },
  {
   "cell_type": "markdown",
   "metadata": {},
   "source": [
    "# 2. What data are available?\n",
    "\n",
    "## 311 Service Requests from 2010 to the Present, https://datahub.cusp.nyu.edu/dataset/erm2-nwe9"
   ]
  },
  {
   "cell_type": "code",
   "execution_count": 1,
   "metadata": {
    "collapsed": true
   },
   "outputs": [],
   "source": [
    "# import packages\n",
    "import os\n",
    "import pandas as pd\n",
    "import numpy as np\n",
    "import re"
   ]
  },
  {
   "cell_type": "code",
   "execution_count": 2,
   "metadata": {
    "collapsed": false
   },
   "outputs": [
    {
     "name": "stderr",
     "output_type": "stream",
     "text": [
      "/opt/rh/anaconda/root/envs/PUI2016_Python2/lib/python2.7/site-packages/IPython/core/interactiveshell.py:2717: DtypeWarning: Columns (8,17,39,40,47,48) have mixed types. Specify dtype option on import or set low_memory=False.\n",
      "  interactivity=interactivity, compiler=compiler, result=result)\n"
     ]
    }
   ],
   "source": [
    "# import dataset\n",
    "data = pd.read_csv('/projects/open/NYCOpenData/nycopendata/data/erm2-nwe9/1446832678/erm2-nwe9')"
   ]
  },
  {
   "cell_type": "code",
   "execution_count": 3,
   "metadata": {
    "collapsed": false,
    "scrolled": false
   },
   "outputs": [
    {
     "name": "stdout",
     "output_type": "stream",
     "text": [
      "Index([u'Unique Key', u'Created Date', u'Closed Date', u'Agency',\n",
      "       u'Agency Name', u'Complaint Type', u'Descriptor', u'Location Type',\n",
      "       u'Incident Zip', u'Incident Address', u'Street Name', u'Cross Street 1',\n",
      "       u'Cross Street 2', u'Intersection Street 1', u'Intersection Street 2',\n",
      "       u'Address Type', u'City', u'Landmark', u'Facility Type', u'Status',\n",
      "       u'Due Date', u'Resolution Description',\n",
      "       u'Resolution Action Updated Date', u'Community Board', u'Borough',\n",
      "       u'X Coordinate (State Plane)', u'Y Coordinate (State Plane)',\n",
      "       u'Park Facility Name', u'Park Borough', u'School Name',\n",
      "       u'School Number', u'School Region', u'School Code',\n",
      "       u'School Phone Number', u'School Address', u'School City',\n",
      "       u'School State', u'School Zip', u'School Not Found',\n",
      "       u'School or Citywide Complaint', u'Vehicle Type',\n",
      "       u'Taxi Company Borough', u'Taxi Pick Up Location',\n",
      "       u'Bridge Highway Name', u'Bridge Highway Direction', u'Road Ramp',\n",
      "       u'Bridge Highway Segment', u'Garage Lot Name', u'Ferry Direction',\n",
      "       u'Ferry Terminal Name', u'Latitude', u'Longitude', u'Location'],\n",
      "      dtype='object')\n"
     ]
    },
    {
     "data": {
      "text/html": [
       "<div>\n",
       "<table border=\"1\" class=\"dataframe\">\n",
       "  <thead>\n",
       "    <tr style=\"text-align: right;\">\n",
       "      <th></th>\n",
       "      <th>Unique Key</th>\n",
       "      <th>Created Date</th>\n",
       "      <th>Closed Date</th>\n",
       "      <th>Agency</th>\n",
       "      <th>Agency Name</th>\n",
       "      <th>Complaint Type</th>\n",
       "      <th>Descriptor</th>\n",
       "      <th>Location Type</th>\n",
       "      <th>Incident Zip</th>\n",
       "      <th>Incident Address</th>\n",
       "      <th>...</th>\n",
       "      <th>Bridge Highway Name</th>\n",
       "      <th>Bridge Highway Direction</th>\n",
       "      <th>Road Ramp</th>\n",
       "      <th>Bridge Highway Segment</th>\n",
       "      <th>Garage Lot Name</th>\n",
       "      <th>Ferry Direction</th>\n",
       "      <th>Ferry Terminal Name</th>\n",
       "      <th>Latitude</th>\n",
       "      <th>Longitude</th>\n",
       "      <th>Location</th>\n",
       "    </tr>\n",
       "  </thead>\n",
       "  <tbody>\n",
       "    <tr>\n",
       "      <th>0</th>\n",
       "      <td>31911011</td>\n",
       "      <td>11/05/2015 02:59:15 AM</td>\n",
       "      <td>NaN</td>\n",
       "      <td>DOT</td>\n",
       "      <td>Department of Transportation</td>\n",
       "      <td>Street Condition</td>\n",
       "      <td>Pothole</td>\n",
       "      <td>NaN</td>\n",
       "      <td>11224</td>\n",
       "      <td>NaN</td>\n",
       "      <td>...</td>\n",
       "      <td>NaN</td>\n",
       "      <td>NaN</td>\n",
       "      <td>NaN</td>\n",
       "      <td>NaN</td>\n",
       "      <td>NaN</td>\n",
       "      <td>NaN</td>\n",
       "      <td>NaN</td>\n",
       "      <td>40.573431</td>\n",
       "      <td>-73.991742</td>\n",
       "      <td>(40.57343122248129, -73.99174247588253)</td>\n",
       "    </tr>\n",
       "    <tr>\n",
       "      <th>1</th>\n",
       "      <td>31908754</td>\n",
       "      <td>11/05/2015 02:09:49 AM</td>\n",
       "      <td>NaN</td>\n",
       "      <td>CHALL</td>\n",
       "      <td>CHALL</td>\n",
       "      <td>Opinion for the Mayor</td>\n",
       "      <td>HOUSING</td>\n",
       "      <td>NaN</td>\n",
       "      <td>NaN</td>\n",
       "      <td>NaN</td>\n",
       "      <td>...</td>\n",
       "      <td>NaN</td>\n",
       "      <td>NaN</td>\n",
       "      <td>NaN</td>\n",
       "      <td>1-1-1173130914</td>\n",
       "      <td>NaN</td>\n",
       "      <td>NaN</td>\n",
       "      <td>NaN</td>\n",
       "      <td>NaN</td>\n",
       "      <td>NaN</td>\n",
       "      <td>NaN</td>\n",
       "    </tr>\n",
       "    <tr>\n",
       "      <th>2</th>\n",
       "      <td>31910423</td>\n",
       "      <td>11/05/2015 02:06:51 AM</td>\n",
       "      <td>NaN</td>\n",
       "      <td>DPR</td>\n",
       "      <td>Department of Parks and Recreation</td>\n",
       "      <td>Root/Sewer/Sidewalk Condition</td>\n",
       "      <td>Trees and Sidewalks Program</td>\n",
       "      <td>Street</td>\n",
       "      <td>11234</td>\n",
       "      <td>1157 EAST 57 STREET</td>\n",
       "      <td>...</td>\n",
       "      <td>NaN</td>\n",
       "      <td>NaN</td>\n",
       "      <td>NaN</td>\n",
       "      <td>NaN</td>\n",
       "      <td>NaN</td>\n",
       "      <td>NaN</td>\n",
       "      <td>NaN</td>\n",
       "      <td>40.625004</td>\n",
       "      <td>-73.920726</td>\n",
       "      <td>(40.62500363580505, -73.92072558378698)</td>\n",
       "    </tr>\n",
       "    <tr>\n",
       "      <th>3</th>\n",
       "      <td>31909924</td>\n",
       "      <td>11/05/2015 02:02:20 AM</td>\n",
       "      <td>NaN</td>\n",
       "      <td>NYPD</td>\n",
       "      <td>New York City Police Department</td>\n",
       "      <td>Illegal Parking</td>\n",
       "      <td>Blocked Hydrant</td>\n",
       "      <td>Street/Sidewalk</td>\n",
       "      <td>11218</td>\n",
       "      <td>722 EAST 4 STREET</td>\n",
       "      <td>...</td>\n",
       "      <td>NaN</td>\n",
       "      <td>NaN</td>\n",
       "      <td>NaN</td>\n",
       "      <td>NaN</td>\n",
       "      <td>NaN</td>\n",
       "      <td>NaN</td>\n",
       "      <td>NaN</td>\n",
       "      <td>40.634522</td>\n",
       "      <td>-73.974790</td>\n",
       "      <td>(40.634522428879706, -73.97479041437481)</td>\n",
       "    </tr>\n",
       "    <tr>\n",
       "      <th>4</th>\n",
       "      <td>31913310</td>\n",
       "      <td>11/05/2015 01:57:20 AM</td>\n",
       "      <td>11/05/2015 01:57:31 AM</td>\n",
       "      <td>HRA</td>\n",
       "      <td>HRA Benefit Card Replacement</td>\n",
       "      <td>Benefit Card Replacement</td>\n",
       "      <td>Medicaid</td>\n",
       "      <td>NYC Street Address</td>\n",
       "      <td>NaN</td>\n",
       "      <td>NaN</td>\n",
       "      <td>...</td>\n",
       "      <td>NaN</td>\n",
       "      <td>NaN</td>\n",
       "      <td>NaN</td>\n",
       "      <td>NaN</td>\n",
       "      <td>NaN</td>\n",
       "      <td>NaN</td>\n",
       "      <td>NaN</td>\n",
       "      <td>NaN</td>\n",
       "      <td>NaN</td>\n",
       "      <td>NaN</td>\n",
       "    </tr>\n",
       "  </tbody>\n",
       "</table>\n",
       "<p>5 rows × 53 columns</p>\n",
       "</div>"
      ],
      "text/plain": [
       "   Unique Key            Created Date             Closed Date Agency  \\\n",
       "0    31911011  11/05/2015 02:59:15 AM                     NaN    DOT   \n",
       "1    31908754  11/05/2015 02:09:49 AM                     NaN  CHALL   \n",
       "2    31910423  11/05/2015 02:06:51 AM                     NaN    DPR   \n",
       "3    31909924  11/05/2015 02:02:20 AM                     NaN   NYPD   \n",
       "4    31913310  11/05/2015 01:57:20 AM  11/05/2015 01:57:31 AM    HRA   \n",
       "\n",
       "                          Agency Name                 Complaint Type  \\\n",
       "0        Department of Transportation               Street Condition   \n",
       "1                               CHALL          Opinion for the Mayor   \n",
       "2  Department of Parks and Recreation  Root/Sewer/Sidewalk Condition   \n",
       "3     New York City Police Department                Illegal Parking   \n",
       "4        HRA Benefit Card Replacement       Benefit Card Replacement   \n",
       "\n",
       "                    Descriptor       Location Type Incident Zip  \\\n",
       "0                      Pothole                 NaN        11224   \n",
       "1                      HOUSING                 NaN          NaN   \n",
       "2  Trees and Sidewalks Program              Street        11234   \n",
       "3              Blocked Hydrant     Street/Sidewalk        11218   \n",
       "4                     Medicaid  NYC Street Address          NaN   \n",
       "\n",
       "      Incident Address                    ...                     \\\n",
       "0                  NaN                    ...                      \n",
       "1                  NaN                    ...                      \n",
       "2  1157 EAST 57 STREET                    ...                      \n",
       "3    722 EAST 4 STREET                    ...                      \n",
       "4                  NaN                    ...                      \n",
       "\n",
       "  Bridge Highway Name Bridge Highway Direction Road Ramp  \\\n",
       "0                 NaN                      NaN       NaN   \n",
       "1                 NaN                      NaN       NaN   \n",
       "2                 NaN                      NaN       NaN   \n",
       "3                 NaN                      NaN       NaN   \n",
       "4                 NaN                      NaN       NaN   \n",
       "\n",
       "  Bridge Highway Segment Garage Lot Name Ferry Direction Ferry Terminal Name  \\\n",
       "0                    NaN             NaN             NaN                 NaN   \n",
       "1         1-1-1173130914             NaN             NaN                 NaN   \n",
       "2                    NaN             NaN             NaN                 NaN   \n",
       "3                    NaN             NaN             NaN                 NaN   \n",
       "4                    NaN             NaN             NaN                 NaN   \n",
       "\n",
       "    Latitude  Longitude                                  Location  \n",
       "0  40.573431 -73.991742   (40.57343122248129, -73.99174247588253)  \n",
       "1        NaN        NaN                                       NaN  \n",
       "2  40.625004 -73.920726   (40.62500363580505, -73.92072558378698)  \n",
       "3  40.634522 -73.974790  (40.634522428879706, -73.97479041437481)  \n",
       "4        NaN        NaN                                       NaN  \n",
       "\n",
       "[5 rows x 53 columns]"
      ]
     },
     "execution_count": 3,
     "metadata": {},
     "output_type": "execute_result"
    }
   ],
   "source": [
    "complaints = data\n",
    "print (complaints.columns)\n",
    "complaints.head()"
   ]
  },
  {
   "cell_type": "markdown",
   "metadata": {},
   "source": [
    "# 3. Think about possible measurement errors"
   ]
  },
  {
   "cell_type": "code",
   "execution_count": 4,
   "metadata": {
    "collapsed": false
   },
   "outputs": [],
   "source": [
    "# What are the unique values for community districts?\n",
    "\n",
    "CommDist = complaints['Community Board'].unique()"
   ]
  },
  {
   "cell_type": "code",
   "execution_count": 5,
   "metadata": {
    "collapsed": false,
    "scrolled": true
   },
   "outputs": [
    {
     "name": "stdout",
     "output_type": "stream",
     "text": [
      "There are 77 unique values for community board in this dataset.\n",
      "['13 BROOKLYN' '0 Unspecified' '18 BROOKLYN' '12 BROOKLYN'\n",
      " '02 STATEN ISLAND' '08 MANHATTAN' '06 BROOKLYN' '10 BRONX' '06 MANHATTAN'\n",
      " '04 BROOKLYN' '04 QUEENS' '09 MANHATTAN' '14 BROOKLYN' '05 MANHATTAN'\n",
      " '02 MANHATTAN' '10 QUEENS' '07 QUEENS' '02 QUEENS' '11 BROOKLYN'\n",
      " '05 QUEENS' '05 BROOKLYN' '09 QUEENS' '12 MANHATTAN' '01 BROOKLYN'\n",
      " '11 MANHATTAN' '03 BRONX' '03 STATEN ISLAND' '08 BROOKLYN' '03 BROOKLYN'\n",
      " '07 MANHATTAN' '10 MANHATTAN' '04 BRONX' '01 MANHATTAN' '07 BRONX'\n",
      " '09 BRONX' '03 MANHATTAN' '13 QUEENS' '02 BRONX' '12 QUEENS' '16 BROOKLYN'\n",
      " '08 QUEENS' '04 MANHATTAN' '14 QUEENS' '10 BROOKLYN' '11 QUEENS'\n",
      " '06 BRONX' '08 BRONX' '05 BRONX' '15 BROOKLYN' '02 BROOKLYN' '12 BRONX'\n",
      " '03 QUEENS' '06 QUEENS' '01 STATEN ISLAND' '01 BRONX' '01 QUEENS'\n",
      " '17 BROOKLYN' '11 BRONX' 'Unspecified QUEENS' '09 BROOKLYN'\n",
      " 'Unspecified MANHATTAN' 'Unspecified BROOKLYN' '07 BROOKLYN'\n",
      " 'Unspecified BRONX' '64 MANHATTAN' '81 QUEENS' '55 BROOKLYN' '83 QUEENS'\n",
      " 'Unspecified STATEN ISLAND' '28 BRONX' '80 QUEENS' '26 BRONX'\n",
      " '95 STATEN ISLAND' '82 QUEENS' '27 BRONX' '56 BROOKLYN' '84 QUEENS']\n"
     ]
    }
   ],
   "source": [
    "print ('There are %i unique values for community board in this dataset.' %len(CommDist))\n",
    "print (CommDist)"
   ]
  },
  {
   "cell_type": "markdown",
   "metadata": {},
   "source": [
    "#### There are 59 community districts in NYC, but this dataset has 77 unique values for community district"
   ]
  },
  {
   "cell_type": "code",
   "execution_count": 6,
   "metadata": {
    "collapsed": false
   },
   "outputs": [
    {
     "name": "stdout",
     "output_type": "stream",
     "text": [
      "['0 Unspecified' '01 BRONX' '01 BROOKLYN' '01 MANHATTAN' '01 QUEENS'\n",
      " '01 STATEN ISLAND' '02 BRONX' '02 BROOKLYN' '02 MANHATTAN' '02 QUEENS'\n",
      " '02 STATEN ISLAND' '03 BRONX' '03 BROOKLYN' '03 MANHATTAN' '03 QUEENS'\n",
      " '03 STATEN ISLAND' '04 BRONX' '04 BROOKLYN' '04 MANHATTAN' '04 QUEENS'\n",
      " '05 BRONX' '05 BROOKLYN' '05 MANHATTAN' '05 QUEENS' '06 BRONX'\n",
      " '06 BROOKLYN' '06 MANHATTAN' '06 QUEENS' '07 BRONX' '07 BROOKLYN'\n",
      " '07 MANHATTAN' '07 QUEENS' '08 BRONX' '08 BROOKLYN' '08 MANHATTAN'\n",
      " '08 QUEENS' '09 BRONX' '09 BROOKLYN' '09 MANHATTAN' '09 QUEENS' '10 BRONX'\n",
      " '10 BROOKLYN' '10 MANHATTAN' '10 QUEENS' '11 BRONX' '11 BROOKLYN'\n",
      " '11 MANHATTAN' '11 QUEENS' '12 BRONX' '12 BROOKLYN' '12 MANHATTAN'\n",
      " '12 QUEENS' '13 BROOKLYN' '13 QUEENS' '14 BROOKLYN' '14 QUEENS'\n",
      " '15 BROOKLYN' '16 BROOKLYN' '17 BROOKLYN' '18 BROOKLYN' '26 BRONX'\n",
      " '27 BRONX' '28 BRONX' '55 BROOKLYN' '56 BROOKLYN' '64 MANHATTAN'\n",
      " '80 QUEENS' '81 QUEENS' '82 QUEENS' '83 QUEENS' '84 QUEENS'\n",
      " '95 STATEN ISLAND' 'Unspecified BRONX' 'Unspecified BROOKLYN'\n",
      " 'Unspecified MANHATTAN' 'Unspecified QUEENS' 'Unspecified STATEN ISLAND']\n"
     ]
    }
   ],
   "source": [
    "CommDist.sort()\n",
    "print (CommDist)"
   ]
  },
  {
   "cell_type": "markdown",
   "metadata": {},
   "source": [
    "#### The real 3 districts for Staten Island, 12 each for Bronx and Manhattan, 14 for Queens, and 18 for Brooklyn (https://www1.nyc.gov/site/planning/community/community-portal.page) are all included in the above dataset. The additional community districts numbered above 18, and \"0 Unspecified\", are all inaccurate."
   ]
  },
  {
   "cell_type": "markdown",
   "metadata": {},
   "source": [
    "## Are there duplicates in this dataset? Are these plausible?"
   ]
  },
  {
   "cell_type": "code",
   "execution_count": 7,
   "metadata": {
    "collapsed": false
   },
   "outputs": [
    {
     "name": "stdout",
     "output_type": "stream",
     "text": [
      "There are 10187766 complaints in this dataset.\n",
      "There are 10187744 unique keys for complaints in this dataset.\n",
      "There are fewer 'Unique Key' values than total rows in the dataset, meaning you have some duplicate complaints.\n"
     ]
    }
   ],
   "source": [
    "print (\"There are %i complaints in this dataset.\" %len(complaints))\n",
    "print (\"There are %i unique keys for complaints in this dataset.\" %len(complaints['Unique Key'].unique()))\n",
    "if len(complaints) > len(complaints['Unique Key'].unique()):\n",
    "    print (\"There are fewer 'Unique Key' values than total rows in the dataset, meaning you have some duplicate complaints.\")\n",
    "else: print (\"There are an equal number of 'Unique Key' values as total rows in the dataset, meaning there are no duplicates.\")"
   ]
  },
  {
   "cell_type": "markdown",
   "metadata": {},
   "source": [
    "#### Duplicate complaints can be plausible in situations where multiple people call about the same issue. These should be dropped."
   ]
  },
  {
   "cell_type": "code",
   "execution_count": 8,
   "metadata": {
    "collapsed": false
   },
   "outputs": [
    {
     "name": "stdout",
     "output_type": "stream",
     "text": [
      "There are 10187744 complaints in this dataset.\n"
     ]
    }
   ],
   "source": [
    "# Check that code drops only duplicate rows rather than both\n",
    "# UniqComplaints = complaints.drop_duplicates(subset='Unique Key', keep='first')\n",
    "# print len(UniqComplaints['Unique Key'])\n",
    "\n",
    "# Drop duplicates from actual dataframe\n",
    "complaints = complaints.drop_duplicates(subset='Unique Key', keep='first')\n",
    "print (\"There are %i complaints in this dataset.\" %len(complaints))"
   ]
  },
  {
   "cell_type": "markdown",
   "metadata": {},
   "source": [
    "## Are there missing values? Are there patterns in the missing values?"
   ]
  },
  {
   "cell_type": "code",
   "execution_count": 11,
   "metadata": {
    "collapsed": false
   },
   "outputs": [],
   "source": [
    "# Check how many rows have a null value for each column\n",
    "checkNull = complaints.isnull().sum() "
   ]
  },
  {
   "cell_type": "code",
   "execution_count": 40,
   "metadata": {
    "collapsed": false
   },
   "outputs": [
    {
     "name": "stdout",
     "output_type": "stream",
     "text": [
      "School or Citywide Complaint      10185390\n",
      "Ferry Direction                   10185001\n",
      "Garage Lot Name                   10183411\n",
      "Ferry Terminal Name               10181220\n",
      "Landmark                          10180434\n",
      "Vehicle Type                      10180242\n",
      "Taxi Company Borough              10177579\n",
      "Road Ramp                         10152964\n",
      "Bridge Highway Direction          10152701\n",
      "Bridge Highway Name               10152649\n",
      "Bridge Highway Segment            10135758\n",
      "Taxi Pick Up Location             10089185\n",
      "Facility Type                      8579463\n",
      "Intersection Street 2              8346281\n",
      "Intersection Street 1              8345267\n",
      "School Not Found                   7151698\n",
      "Due Date                           7120286\n",
      "Resolution Description             3786739\n",
      "Location Type                      3067596\n",
      "Cross Street 2                     2425792\n",
      "Cross Street 1                     2375942\n",
      "Street Name                        2198558\n",
      "Incident Address                   2197705\n",
      "Y Coordinate (State Plane)          878752\n",
      "X Coordinate (State Plane)          878752\n",
      "Latitude                            878752\n",
      "Longitude                           878752\n",
      "Location                            878752\n",
      "Incident Zip                        794159\n",
      "City                                788712\n",
      "Address Type                        490299\n",
      "Closed Date                         450879\n",
      "Resolution Action Updated Date      250932\n",
      "School Region                        56197\n",
      "School Code                          56196\n",
      "Descriptor                           31057\n",
      "School Number                         2283\n",
      "School Address                           6\n",
      "School Zip                               5\n",
      "Complaint Type                           0\n",
      "School State                             0\n",
      "Park Facility Name                       0\n",
      "Agency                                   0\n",
      "Agency Name                              0\n",
      "Created Date                             0\n",
      "School City                              0\n",
      "Borough                                  0\n",
      "School Phone Number                      0\n",
      "Status                                   0\n",
      "School Name                              0\n",
      "Park Borough                             0\n",
      "Community Board                          0\n",
      "Unique Key                               0\n",
      "dtype: int64\n"
     ]
    }
   ],
   "source": [
    "checkNull.sort()\n",
    "print (checkNull)"
   ]
  },
  {
   "cell_type": "markdown",
   "metadata": {},
   "source": [
    "#### A quick glance at the above print out shows that 12 columns are almost entirely null. However, there are also 14 columns without a single null value, 2 school-related columns with fewer than 10 null values, and the remaining columns vary greatly. It is likely that the columns without any null values are either automatically generated or cannot be left null by the person entering call information into the dataset. Those that are almost entirely null may be optional information that callers are not prompted to provide and typically don't think to provide themselves. Another pattern that jumps out is that the 4 coordinate columns and \"Location\" all have the same number of missing values, suggesting that these columns are related to each other and automatically generated."
   ]
  },
  {
   "cell_type": "markdown",
   "metadata": {},
   "source": [
    "## Data Editing: Can missing values be replaced? Can missing \"Resolution Descriptor\" values be replaced with \"Complaint Type\" data?"
   ]
  },
  {
   "cell_type": "code",
   "execution_count": 54,
   "metadata": {
    "collapsed": false
   },
   "outputs": [
    {
     "name": "stdout",
     "output_type": "stream",
     "text": [
      "(523        HEAT/HOT WATER\n",
      "524      Blocked Driveway\n",
      "525    Indoor Air Quality\n",
      "526    Noise - Commercial\n",
      "527       Noise - Vehicle\n",
      "528      Blocked Driveway\n",
      "529                 Noise\n",
      "Name: Complaint Type, dtype: object, 523    The complaint you filed is a duplicate of a co...\n",
      "524    Your complaint has been received by the Police...\n",
      "525    The Department of Health and Mental Hygiene wi...\n",
      "526    The Police Department responded to the complai...\n",
      "527    The Police Department responded to the complai...\n",
      "528    The Police Department issued a summons in resp...\n",
      "529                                                  NaN\n",
      "Name: Resolution Description, dtype: object)\n",
      "('The Police Department responded to the complaint and with the information available observed no evidence of the violation at that time.', 'The Police Department responded to the complaint and with the information available observed no evidence of the violation at that time.')\n"
     ]
    }
   ],
   "source": [
    "# Compare the values of some rows for these two columns\n",
    "\n",
    "print (complaints['Complaint Type'][523:530], complaints['Resolution Description'][523:530])\n",
    "print (complaints['Resolution Description'][527], complaints['Resolution Description'][526])"
   ]
  },
  {
   "cell_type": "markdown",
   "metadata": {},
   "source": [
    "#### The values in the \"Resolution Description\" column can certainly be set to equal the values of the \"Complaint Type\" column, however I do not believe this would be partiularly useful for analytical purposes. It would be more beneficial to determine if some complaint types are more or less likely to have a resolution description. You could also check to see if specific complaint types with a specific status have one specific resolution description. If that is the case, it would be possible and potentially beneficial to set the rows with empty resolution descriptions that match a given complaint type-status combination to that combination's given resolution description."
   ]
  },
  {
   "cell_type": "markdown",
   "metadata": {},
   "source": [
    "## Create a marker for implausible Community Districts and then drop them."
   ]
  },
  {
   "cell_type": "code",
   "execution_count": null,
   "metadata": {
    "collapsed": false
   },
   "outputs": [],
   "source": [
    "# This was code to rename the community districts so as to have all inaccurate districts in a single group.\n",
    "# Lab instructions were to instead create a marker for the inaccurate districts and drop them.\n",
    "'''\n",
    "complaints['Community Board'] = complaints['Community Board'].map(lambda x: x.replace('Unspecified MANHATTAN', 'Unspecified'))\n",
    "complaints['Community Board'] = complaints['Community Board'].map(lambda x: x.replace('Unspecified BRONX', 'Unspecified'))\n",
    "complaints['Community Board'] = complaints['Community Board'].map(lambda x: x.replace('Unspecified BROOKLYN', 'Unspecified'))\n",
    "complaints['Community Board'] = complaints['Community Board'].map(lambda x: x.replace('Unspecified QUEENS', 'Unspecified'))\n",
    "complaints['Community Board'] = complaints['Community Board'].map(lambda x: \n",
    "                                                                  x.replace('Unspecified STATEN ISLAND', 'Unspecified'))\n",
    "complaints['Community Board'] = complaints['Community Board'].map(lambda x: x.replace('0 Unspecified', 'Unspecified'))\n",
    "complaints['Community Board'] = complaints['Community Board'].map(lambda x: x.replace('26 BRONX', 'Unspecified'))\n",
    "complaints['Community Board'] = complaints['Community Board'].map(lambda x: x.replace('27 BRONX', 'Unspecified'))\n",
    "complaints['Community Board'] = complaints['Community Board'].map(lambda x: x.replace('28 BRONX', 'Unspecified'))\n",
    "complaints['Community Board'] = complaints['Community Board'].map(lambda x: x.replace('55 BROOKLYN', 'Unspecified'))\n",
    "complaints['Community Board'] = complaints['Community Board'].map(lambda x: x.replace('56 BROOKLYN', 'Unspecified'))\n",
    "complaints['Community Board'] = complaints['Community Board'].map(lambda x: x.replace('64 MANHATTAN', 'Unspecified'))\n",
    "complaints['Community Board'] = complaints['Community Board'].map(lambda x: x.replace('80 QUEENS', 'Unspecified'))\n",
    "complaints['Community Board'] = complaints['Community Board'].map(lambda x: x.replace('81 QUEENS', 'Unspecified'))\n",
    "complaints['Community Board'] = complaints['Community Board'].map(lambda x: x.replace('82 QUEENS', 'Unspecified'))\n",
    "complaints['Community Board'] = complaints['Community Board'].map(lambda x: x.replace('83 QUEENS', 'Unspecified'))\n",
    "complaints['Community Board'] = complaints['Community Board'].map(lambda x: x.replace('84 QUEENS', 'Unspecified'))\n",
    "complaints['Community Board'] = complaints['Community Board'].map(lambda x: x.replace('95 STATEN ISLAND', 'Unspecified'))\n",
    "\n",
    "CommDist = complaints['Community Board'].unique()\n",
    "CommDist.sort()\n",
    "print ('''There are now %i unique values for community board in this dataset, one for each actual community board\n",
    "       and one for the rest.''' %len(CommDist))\n",
    "print (CommDist)\n",
    "'''"
   ]
  },
  {
   "cell_type": "code",
   "execution_count": 76,
   "metadata": {
    "collapsed": false
   },
   "outputs": [],
   "source": [
    "# Group the complaints by Community Board regardless of whether it is valid.\n",
    "dist311 = complaints.groupby('Community Board', as_index=False).count()"
   ]
  },
  {
   "cell_type": "code",
   "execution_count": 77,
   "metadata": {
    "collapsed": false
   },
   "outputs": [
    {
     "data": {
      "text/html": [
       "<div>\n",
       "<table border=\"1\" class=\"dataframe\">\n",
       "  <thead>\n",
       "    <tr style=\"text-align: right;\">\n",
       "      <th></th>\n",
       "      <th>Community Board</th>\n",
       "      <th>Unique Key</th>\n",
       "      <th>Created Date</th>\n",
       "      <th>Closed Date</th>\n",
       "      <th>Agency</th>\n",
       "      <th>Agency Name</th>\n",
       "      <th>Complaint Type</th>\n",
       "      <th>Descriptor</th>\n",
       "      <th>Location Type</th>\n",
       "      <th>Incident Zip</th>\n",
       "      <th>...</th>\n",
       "      <th>Bridge Highway Name</th>\n",
       "      <th>Bridge Highway Direction</th>\n",
       "      <th>Road Ramp</th>\n",
       "      <th>Bridge Highway Segment</th>\n",
       "      <th>Garage Lot Name</th>\n",
       "      <th>Ferry Direction</th>\n",
       "      <th>Ferry Terminal Name</th>\n",
       "      <th>Latitude</th>\n",
       "      <th>Longitude</th>\n",
       "      <th>Location</th>\n",
       "    </tr>\n",
       "  </thead>\n",
       "  <tbody>\n",
       "    <tr>\n",
       "      <th>0</th>\n",
       "      <td>0 Unspecified</td>\n",
       "      <td>1109446</td>\n",
       "      <td>1109446</td>\n",
       "      <td>1049131</td>\n",
       "      <td>1109446</td>\n",
       "      <td>1109446</td>\n",
       "      <td>1109446</td>\n",
       "      <td>1109160</td>\n",
       "      <td>882275</td>\n",
       "      <td>827262</td>\n",
       "      <td>...</td>\n",
       "      <td>285</td>\n",
       "      <td>247</td>\n",
       "      <td>278</td>\n",
       "      <td>17539</td>\n",
       "      <td>0</td>\n",
       "      <td>2743</td>\n",
       "      <td>4611</td>\n",
       "      <td>820850</td>\n",
       "      <td>820850</td>\n",
       "      <td>820850</td>\n",
       "    </tr>\n",
       "    <tr>\n",
       "      <th>1</th>\n",
       "      <td>01 BRONX</td>\n",
       "      <td>74631</td>\n",
       "      <td>74631</td>\n",
       "      <td>71419</td>\n",
       "      <td>74631</td>\n",
       "      <td>74631</td>\n",
       "      <td>74631</td>\n",
       "      <td>74312</td>\n",
       "      <td>59752</td>\n",
       "      <td>74435</td>\n",
       "      <td>...</td>\n",
       "      <td>410</td>\n",
       "      <td>410</td>\n",
       "      <td>410</td>\n",
       "      <td>410</td>\n",
       "      <td>1</td>\n",
       "      <td>0</td>\n",
       "      <td>39</td>\n",
       "      <td>73748</td>\n",
       "      <td>73748</td>\n",
       "      <td>73748</td>\n",
       "    </tr>\n",
       "    <tr>\n",
       "      <th>2</th>\n",
       "      <td>01 BROOKLYN</td>\n",
       "      <td>185057</td>\n",
       "      <td>185057</td>\n",
       "      <td>178247</td>\n",
       "      <td>185057</td>\n",
       "      <td>185057</td>\n",
       "      <td>185057</td>\n",
       "      <td>184119</td>\n",
       "      <td>127919</td>\n",
       "      <td>184497</td>\n",
       "      <td>...</td>\n",
       "      <td>994</td>\n",
       "      <td>994</td>\n",
       "      <td>994</td>\n",
       "      <td>994</td>\n",
       "      <td>2</td>\n",
       "      <td>0</td>\n",
       "      <td>41</td>\n",
       "      <td>182790</td>\n",
       "      <td>182790</td>\n",
       "      <td>182790</td>\n",
       "    </tr>\n",
       "    <tr>\n",
       "      <th>3</th>\n",
       "      <td>01 MANHATTAN</td>\n",
       "      <td>77974</td>\n",
       "      <td>77974</td>\n",
       "      <td>74510</td>\n",
       "      <td>77974</td>\n",
       "      <td>77974</td>\n",
       "      <td>77974</td>\n",
       "      <td>77099</td>\n",
       "      <td>42828</td>\n",
       "      <td>77877</td>\n",
       "      <td>...</td>\n",
       "      <td>350</td>\n",
       "      <td>350</td>\n",
       "      <td>267</td>\n",
       "      <td>267</td>\n",
       "      <td>65</td>\n",
       "      <td>0</td>\n",
       "      <td>18</td>\n",
       "      <td>77186</td>\n",
       "      <td>77186</td>\n",
       "      <td>77186</td>\n",
       "    </tr>\n",
       "    <tr>\n",
       "      <th>4</th>\n",
       "      <td>01 QUEENS</td>\n",
       "      <td>171484</td>\n",
       "      <td>171484</td>\n",
       "      <td>164598</td>\n",
       "      <td>171484</td>\n",
       "      <td>171484</td>\n",
       "      <td>171484</td>\n",
       "      <td>170936</td>\n",
       "      <td>121938</td>\n",
       "      <td>170826</td>\n",
       "      <td>...</td>\n",
       "      <td>692</td>\n",
       "      <td>692</td>\n",
       "      <td>692</td>\n",
       "      <td>692</td>\n",
       "      <td>457</td>\n",
       "      <td>0</td>\n",
       "      <td>35</td>\n",
       "      <td>169154</td>\n",
       "      <td>169154</td>\n",
       "      <td>169154</td>\n",
       "    </tr>\n",
       "  </tbody>\n",
       "</table>\n",
       "<p>5 rows × 53 columns</p>\n",
       "</div>"
      ],
      "text/plain": [
       "  Community Board  Unique Key  Created Date  Closed Date   Agency  \\\n",
       "0   0 Unspecified     1109446       1109446      1049131  1109446   \n",
       "1        01 BRONX       74631         74631        71419    74631   \n",
       "2     01 BROOKLYN      185057        185057       178247   185057   \n",
       "3    01 MANHATTAN       77974         77974        74510    77974   \n",
       "4       01 QUEENS      171484        171484       164598   171484   \n",
       "\n",
       "   Agency Name  Complaint Type  Descriptor  Location Type  Incident Zip  \\\n",
       "0      1109446         1109446     1109160         882275        827262   \n",
       "1        74631           74631       74312          59752         74435   \n",
       "2       185057          185057      184119         127919        184497   \n",
       "3        77974           77974       77099          42828         77877   \n",
       "4       171484          171484      170936         121938        170826   \n",
       "\n",
       "     ...     Bridge Highway Name  Bridge Highway Direction  Road Ramp  \\\n",
       "0    ...                     285                       247        278   \n",
       "1    ...                     410                       410        410   \n",
       "2    ...                     994                       994        994   \n",
       "3    ...                     350                       350        267   \n",
       "4    ...                     692                       692        692   \n",
       "\n",
       "   Bridge Highway Segment  Garage Lot Name  Ferry Direction  \\\n",
       "0                   17539                0             2743   \n",
       "1                     410                1                0   \n",
       "2                     994                2                0   \n",
       "3                     267               65                0   \n",
       "4                     692              457                0   \n",
       "\n",
       "   Ferry Terminal Name  Latitude  Longitude  Location  \n",
       "0                 4611    820850     820850    820850  \n",
       "1                   39     73748      73748     73748  \n",
       "2                   41    182790     182790    182790  \n",
       "3                   18     77186      77186     77186  \n",
       "4                   35    169154     169154    169154  \n",
       "\n",
       "[5 rows x 53 columns]"
      ]
     },
     "execution_count": 77,
     "metadata": {},
     "output_type": "execute_result"
    }
   ],
   "source": [
    "dist311.head()"
   ]
  },
  {
   "cell_type": "code",
   "execution_count": 80,
   "metadata": {
    "collapsed": false
   },
   "outputs": [
    {
     "name": "stderr",
     "output_type": "stream",
     "text": [
      "/opt/rh/anaconda/root/envs/PUI2016_Python2/lib/python2.7/site-packages/ipykernel/__main__.py:7: SettingWithCopyWarning: \n",
      "A value is trying to be set on a copy of a slice from a DataFrame\n",
      "\n",
      "See the caveats in the documentation: http://pandas.pydata.org/pandas-docs/stable/indexing.html#indexing-view-versus-copy\n",
      "/opt/rh/anaconda/root/envs/PUI2016_Python2/lib/python2.7/site-packages/pandas/core/indexing.py:132: SettingWithCopyWarning: \n",
      "A value is trying to be set on a copy of a slice from a DataFrame\n",
      "\n",
      "See the caveats in the documentation: http://pandas.pydata.org/pandas-docs/stable/indexing.html#indexing-view-versus-copy\n",
      "  self._setitem_with_indexer(indexer, value)\n",
      "/opt/rh/anaconda/root/envs/PUI2016_Python2/lib/python2.7/site-packages/ipykernel/__main__.py:9: SettingWithCopyWarning: \n",
      "A value is trying to be set on a copy of a slice from a DataFrame\n",
      "\n",
      "See the caveats in the documentation: http://pandas.pydata.org/pandas-docs/stable/indexing.html#indexing-view-versus-copy\n",
      "/opt/rh/anaconda/root/envs/PUI2016_Python2/lib/python2.7/site-packages/ipykernel/__main__.py:5: SettingWithCopyWarning: \n",
      "A value is trying to be set on a copy of a slice from a DataFrame\n",
      "\n",
      "See the caveats in the documentation: http://pandas.pydata.org/pandas-docs/stable/indexing.html#indexing-view-versus-copy\n",
      "/opt/rh/anaconda/root/envs/PUI2016_Python2/lib/python2.7/site-packages/ipykernel/__main__.py:11: SettingWithCopyWarning: \n",
      "A value is trying to be set on a copy of a slice from a DataFrame\n",
      "\n",
      "See the caveats in the documentation: http://pandas.pydata.org/pandas-docs/stable/indexing.html#indexing-view-versus-copy\n"
     ]
    }
   ],
   "source": [
    "# Create a marker\n",
    "dist311['Valid'] = np.ones(len(dist311), np.float)\n",
    "for i in range (0, len(dist311)):\n",
    "    try:\n",
    "        if int(dist311['Community Board'][i].split(' ')[0]) > 18:\n",
    "            dist311['Valid'][i] = \"False\"\n",
    "        elif int(dist311['Community Board'][i].split(' ')[0]) == 0:\n",
    "            dist311['Valid'][i] = \"False\"\n",
    "        elif int(dist311['Community Board'][i].split(' ')[0]) > 0 and int(dist311['Community Board'][i].split(' ')[0]) < 19:\n",
    "            dist311['Valid'][i] = \"True\"\n",
    "    except ValueError:\n",
    "        dist311['Valid'][i] = \"False\""
   ]
  },
  {
   "cell_type": "code",
   "execution_count": 81,
   "metadata": {
    "collapsed": false
   },
   "outputs": [
    {
     "name": "stdout",
     "output_type": "stream",
     "text": [
      "59\n"
     ]
    },
    {
     "data": {
      "text/html": [
       "<div>\n",
       "<table border=\"1\" class=\"dataframe\">\n",
       "  <thead>\n",
       "    <tr style=\"text-align: right;\">\n",
       "      <th></th>\n",
       "      <th>Community Board</th>\n",
       "      <th>Unique Key</th>\n",
       "      <th>Created Date</th>\n",
       "      <th>Closed Date</th>\n",
       "      <th>Agency</th>\n",
       "      <th>Agency Name</th>\n",
       "      <th>Complaint Type</th>\n",
       "      <th>Descriptor</th>\n",
       "      <th>Location Type</th>\n",
       "      <th>Incident Zip</th>\n",
       "      <th>...</th>\n",
       "      <th>Bridge Highway Direction</th>\n",
       "      <th>Road Ramp</th>\n",
       "      <th>Bridge Highway Segment</th>\n",
       "      <th>Garage Lot Name</th>\n",
       "      <th>Ferry Direction</th>\n",
       "      <th>Ferry Terminal Name</th>\n",
       "      <th>Latitude</th>\n",
       "      <th>Longitude</th>\n",
       "      <th>Location</th>\n",
       "      <th>Valid</th>\n",
       "    </tr>\n",
       "  </thead>\n",
       "  <tbody>\n",
       "    <tr>\n",
       "      <th>1</th>\n",
       "      <td>01 BRONX</td>\n",
       "      <td>74631</td>\n",
       "      <td>74631</td>\n",
       "      <td>71419</td>\n",
       "      <td>74631</td>\n",
       "      <td>74631</td>\n",
       "      <td>74631</td>\n",
       "      <td>74312</td>\n",
       "      <td>59752</td>\n",
       "      <td>74435</td>\n",
       "      <td>...</td>\n",
       "      <td>410</td>\n",
       "      <td>410</td>\n",
       "      <td>410</td>\n",
       "      <td>1</td>\n",
       "      <td>0</td>\n",
       "      <td>39</td>\n",
       "      <td>73748</td>\n",
       "      <td>73748</td>\n",
       "      <td>73748</td>\n",
       "      <td>True</td>\n",
       "    </tr>\n",
       "    <tr>\n",
       "      <th>2</th>\n",
       "      <td>01 BROOKLYN</td>\n",
       "      <td>185057</td>\n",
       "      <td>185057</td>\n",
       "      <td>178247</td>\n",
       "      <td>185057</td>\n",
       "      <td>185057</td>\n",
       "      <td>185057</td>\n",
       "      <td>184119</td>\n",
       "      <td>127919</td>\n",
       "      <td>184497</td>\n",
       "      <td>...</td>\n",
       "      <td>994</td>\n",
       "      <td>994</td>\n",
       "      <td>994</td>\n",
       "      <td>2</td>\n",
       "      <td>0</td>\n",
       "      <td>41</td>\n",
       "      <td>182790</td>\n",
       "      <td>182790</td>\n",
       "      <td>182790</td>\n",
       "      <td>True</td>\n",
       "    </tr>\n",
       "    <tr>\n",
       "      <th>3</th>\n",
       "      <td>01 MANHATTAN</td>\n",
       "      <td>77974</td>\n",
       "      <td>77974</td>\n",
       "      <td>74510</td>\n",
       "      <td>77974</td>\n",
       "      <td>77974</td>\n",
       "      <td>77974</td>\n",
       "      <td>77099</td>\n",
       "      <td>42828</td>\n",
       "      <td>77877</td>\n",
       "      <td>...</td>\n",
       "      <td>350</td>\n",
       "      <td>267</td>\n",
       "      <td>267</td>\n",
       "      <td>65</td>\n",
       "      <td>0</td>\n",
       "      <td>18</td>\n",
       "      <td>77186</td>\n",
       "      <td>77186</td>\n",
       "      <td>77186</td>\n",
       "      <td>True</td>\n",
       "    </tr>\n",
       "    <tr>\n",
       "      <th>4</th>\n",
       "      <td>01 QUEENS</td>\n",
       "      <td>171484</td>\n",
       "      <td>171484</td>\n",
       "      <td>164598</td>\n",
       "      <td>171484</td>\n",
       "      <td>171484</td>\n",
       "      <td>171484</td>\n",
       "      <td>170936</td>\n",
       "      <td>121938</td>\n",
       "      <td>170826</td>\n",
       "      <td>...</td>\n",
       "      <td>692</td>\n",
       "      <td>692</td>\n",
       "      <td>692</td>\n",
       "      <td>457</td>\n",
       "      <td>0</td>\n",
       "      <td>35</td>\n",
       "      <td>169154</td>\n",
       "      <td>169154</td>\n",
       "      <td>169154</td>\n",
       "      <td>True</td>\n",
       "    </tr>\n",
       "    <tr>\n",
       "      <th>5</th>\n",
       "      <td>01 STATEN ISLAND</td>\n",
       "      <td>182708</td>\n",
       "      <td>182708</td>\n",
       "      <td>171750</td>\n",
       "      <td>182708</td>\n",
       "      <td>182708</td>\n",
       "      <td>182708</td>\n",
       "      <td>182173</td>\n",
       "      <td>121503</td>\n",
       "      <td>182038</td>\n",
       "      <td>...</td>\n",
       "      <td>538</td>\n",
       "      <td>538</td>\n",
       "      <td>538</td>\n",
       "      <td>396</td>\n",
       "      <td>0</td>\n",
       "      <td>42</td>\n",
       "      <td>180795</td>\n",
       "      <td>180795</td>\n",
       "      <td>180795</td>\n",
       "      <td>True</td>\n",
       "    </tr>\n",
       "  </tbody>\n",
       "</table>\n",
       "<p>5 rows × 54 columns</p>\n",
       "</div>"
      ],
      "text/plain": [
       "    Community Board  Unique Key  Created Date  Closed Date  Agency  \\\n",
       "1          01 BRONX       74631         74631        71419   74631   \n",
       "2       01 BROOKLYN      185057        185057       178247  185057   \n",
       "3      01 MANHATTAN       77974         77974        74510   77974   \n",
       "4         01 QUEENS      171484        171484       164598  171484   \n",
       "5  01 STATEN ISLAND      182708        182708       171750  182708   \n",
       "\n",
       "   Agency Name  Complaint Type  Descriptor  Location Type  Incident Zip  \\\n",
       "1        74631           74631       74312          59752         74435   \n",
       "2       185057          185057      184119         127919        184497   \n",
       "3        77974           77974       77099          42828         77877   \n",
       "4       171484          171484      170936         121938        170826   \n",
       "5       182708          182708      182173         121503        182038   \n",
       "\n",
       "   ...    Bridge Highway Direction  Road Ramp  Bridge Highway Segment  \\\n",
       "1  ...                         410        410                     410   \n",
       "2  ...                         994        994                     994   \n",
       "3  ...                         350        267                     267   \n",
       "4  ...                         692        692                     692   \n",
       "5  ...                         538        538                     538   \n",
       "\n",
       "   Garage Lot Name  Ferry Direction  Ferry Terminal Name  Latitude  Longitude  \\\n",
       "1                1                0                   39     73748      73748   \n",
       "2                2                0                   41    182790     182790   \n",
       "3               65                0                   18     77186      77186   \n",
       "4              457                0                   35    169154     169154   \n",
       "5              396                0                   42    180795     180795   \n",
       "\n",
       "   Location  Valid  \n",
       "1     73748   True  \n",
       "2    182790   True  \n",
       "3     77186   True  \n",
       "4    169154   True  \n",
       "5    180795   True  \n",
       "\n",
       "[5 rows x 54 columns]"
      ]
     },
     "execution_count": 81,
     "metadata": {},
     "output_type": "execute_result"
    }
   ],
   "source": [
    "# Drop invalid districts\n",
    "dist311 = dist311[(dist311['Valid'] == \"True\")]\n",
    "print (len(dist311))\n",
    "dist311.head()"
   ]
  },
  {
   "cell_type": "markdown",
   "metadata": {},
   "source": [
    "## Rank the discticts according to the number of complaints"
   ]
  },
  {
   "cell_type": "code",
   "execution_count": 92,
   "metadata": {
    "collapsed": false
   },
   "outputs": [
    {
     "name": "stderr",
     "output_type": "stream",
     "text": [
      "/opt/rh/anaconda/root/envs/PUI2016_Python2/lib/python2.7/site-packages/ipykernel/__main__.py:3: SettingWithCopyWarning: \n",
      "A value is trying to be set on a copy of a slice from a DataFrame.\n",
      "Try using .loc[row_indexer,col_indexer] = value instead\n",
      "\n",
      "See the caveats in the documentation: http://pandas.pydata.org/pandas-docs/stable/indexing.html#indexing-view-versus-copy\n",
      "  app.launch_new_instance()\n",
      "/opt/rh/anaconda/root/envs/PUI2016_Python2/lib/python2.7/site-packages/ipykernel/__main__.py:4: FutureWarning: sort(columns=....) is deprecated, use sort_values(by=.....)\n",
      "/opt/rh/anaconda/root/envs/PUI2016_Python2/lib/python2.7/site-packages/pandas/core/frame.py:3225: SettingWithCopyWarning: \n",
      "A value is trying to be set on a copy of a slice from a DataFrame\n",
      "\n",
      "See the caveats in the documentation: http://pandas.pydata.org/pandas-docs/stable/indexing.html#indexing-view-versus-copy\n",
      "  na_position=na_position)\n"
     ]
    },
    {
     "data": {
      "text/html": [
       "<div>\n",
       "<table border=\"1\" class=\"dataframe\">\n",
       "  <thead>\n",
       "    <tr style=\"text-align: right;\">\n",
       "      <th></th>\n",
       "      <th>Community Board</th>\n",
       "      <th>Complaints</th>\n",
       "      <th>Rank</th>\n",
       "    </tr>\n",
       "  </thead>\n",
       "  <tbody>\n",
       "    <tr>\n",
       "      <th>50</th>\n",
       "      <td>12 MANHATTAN</td>\n",
       "      <td>268053</td>\n",
       "      <td>1.0</td>\n",
       "    </tr>\n",
       "    <tr>\n",
       "      <th>51</th>\n",
       "      <td>12 QUEENS</td>\n",
       "      <td>229383</td>\n",
       "      <td>2.0</td>\n",
       "    </tr>\n",
       "    <tr>\n",
       "      <th>12</th>\n",
       "      <td>03 BROOKLYN</td>\n",
       "      <td>197305</td>\n",
       "      <td>3.0</td>\n",
       "    </tr>\n",
       "    <tr>\n",
       "      <th>31</th>\n",
       "      <td>07 QUEENS</td>\n",
       "      <td>195961</td>\n",
       "      <td>4.0</td>\n",
       "    </tr>\n",
       "    <tr>\n",
       "      <th>58</th>\n",
       "      <td>17 BROOKLYN</td>\n",
       "      <td>191720</td>\n",
       "      <td>5.0</td>\n",
       "    </tr>\n",
       "  </tbody>\n",
       "</table>\n",
       "</div>"
      ],
      "text/plain": [
       "   Community Board  Complaints  Rank\n",
       "50    12 MANHATTAN      268053   1.0\n",
       "51       12 QUEENS      229383   2.0\n",
       "12     03 BROOKLYN      197305   3.0\n",
       "31       07 QUEENS      195961   4.0\n",
       "58     17 BROOKLYN      191720   5.0"
      ]
     },
     "execution_count": 92,
     "metadata": {},
     "output_type": "execute_result"
    }
   ],
   "source": [
    "# Reduce the dataframe and rank the districts\n",
    "ComplaintsPerCD = dist311[['Community Board', 'Unique Key']]\n",
    "ComplaintsPerCD.rename(columns = {'Unique Key': 'Complaints'}, inplace = True)\n",
    "ComplaintsPerCD['Rank'] = ComplaintsPerCD['Complaints'].rank(ascending = False)\n",
    "ComplaintsPerCD.sort(columns = 'Rank', inplace=True)\n",
    "ComplaintsPerCD.head()"
   ]
  },
  {
   "cell_type": "markdown",
   "metadata": {},
   "source": [
    "# 4. Think about the interpretation of your results."
   ]
  },
  {
   "cell_type": "code",
   "execution_count": 93,
   "metadata": {
    "collapsed": false
   },
   "outputs": [],
   "source": [
    "# Load the Population by community district dataset\n",
    "pop = pd.read_csv('http://cosmo.nyu.edu/~fb55/PUI2016/data/Final_Demographics.csv')"
   ]
  },
  {
   "cell_type": "code",
   "execution_count": 94,
   "metadata": {
    "collapsed": false
   },
   "outputs": [
    {
     "data": {
      "text/html": [
       "<div>\n",
       "<table border=\"1\" class=\"dataframe\">\n",
       "  <thead>\n",
       "    <tr style=\"text-align: right;\">\n",
       "      <th></th>\n",
       "      <th>FIPS</th>\n",
       "      <th>cd_id</th>\n",
       "      <th>Total Population</th>\n",
       "      <th>Population Density (per sq. mile)</th>\n",
       "      <th>% Total Population: Male</th>\n",
       "      <th>% Total Population: 18 to 24 Years</th>\n",
       "      <th>% Total Population: 25 to 34 Years</th>\n",
       "      <th>% Total Population: 35 to 44 Years</th>\n",
       "      <th>% Population 5 Years And Over: Speak Only English</th>\n",
       "      <th>% Population 5 Years And Over: Spanish or Spanish Creole</th>\n",
       "      <th>...</th>\n",
       "      <th>Employed Civilian Population 16 Years And Over: Production, transportation, and material moving  occupations: Production occupations</th>\n",
       "      <th>Employed Civilian Population 16 Years And Over: Production, transportation, and material moving  occupations: Transportation and material moving occupations</th>\n",
       "      <th>% Employed Civilian Population 16 Years And Over: Management, professional, and related occupations</th>\n",
       "      <th>% Employed Civilian Population 16 Years And Over: Service occupations</th>\n",
       "      <th>% Employed Civilian Population 16 Years And Over: Sales and office occupations</th>\n",
       "      <th>% Employed Civilian Population 16 Years And Over: Farming, fishing, and forestry occupations</th>\n",
       "      <th>% Employed Civilian Population 16 Years And Over: Construction, extraction, and maintenance  occupations</th>\n",
       "      <th>% Employed Civilian Population 16 Years And Over: Production, transportation, and material moving  occupations</th>\n",
       "      <th>% Employed Civilian Population 16 Years And Over: Production, transportation, and material moving  occupations: Production occupations</th>\n",
       "      <th>% Employed Civilian Population 16 Years And Over: Production, transportation, and material moving  occupations: Transportation and material moving occupations</th>\n",
       "    </tr>\n",
       "  </thead>\n",
       "  <tbody>\n",
       "    <tr>\n",
       "      <th>0</th>\n",
       "      <td>3603701</td>\n",
       "      <td>BX08</td>\n",
       "      <td>106737</td>\n",
       "      <td>31229.95006</td>\n",
       "      <td>46.65</td>\n",
       "      <td>10.73</td>\n",
       "      <td>15.04</td>\n",
       "      <td>11.32</td>\n",
       "      <td>46.80</td>\n",
       "      <td>39.24</td>\n",
       "      <td>...</td>\n",
       "      <td>665</td>\n",
       "      <td>1518</td>\n",
       "      <td>42.66</td>\n",
       "      <td>28.95</td>\n",
       "      <td>20.89</td>\n",
       "      <td>0.24</td>\n",
       "      <td>2.65</td>\n",
       "      <td>4.60</td>\n",
       "      <td>1.40</td>\n",
       "      <td>3.20</td>\n",
       "    </tr>\n",
       "    <tr>\n",
       "      <th>1</th>\n",
       "      <td>3603702</td>\n",
       "      <td>BX12</td>\n",
       "      <td>134644</td>\n",
       "      <td>19966.67839</td>\n",
       "      <td>46.35</td>\n",
       "      <td>11.35</td>\n",
       "      <td>14.29</td>\n",
       "      <td>12.57</td>\n",
       "      <td>73.09</td>\n",
       "      <td>18.19</td>\n",
       "      <td>...</td>\n",
       "      <td>1156</td>\n",
       "      <td>4174</td>\n",
       "      <td>29.57</td>\n",
       "      <td>33.98</td>\n",
       "      <td>20.40</td>\n",
       "      <td>0.00</td>\n",
       "      <td>7.08</td>\n",
       "      <td>8.97</td>\n",
       "      <td>1.95</td>\n",
       "      <td>7.02</td>\n",
       "    </tr>\n",
       "    <tr>\n",
       "      <th>2</th>\n",
       "      <td>3603703</td>\n",
       "      <td>BX10</td>\n",
       "      <td>121209</td>\n",
       "      <td>12913.81703</td>\n",
       "      <td>45.20</td>\n",
       "      <td>8.62</td>\n",
       "      <td>13.74</td>\n",
       "      <td>12.78</td>\n",
       "      <td>61.79</td>\n",
       "      <td>26.43</td>\n",
       "      <td>...</td>\n",
       "      <td>941</td>\n",
       "      <td>3433</td>\n",
       "      <td>36.20</td>\n",
       "      <td>22.85</td>\n",
       "      <td>25.09</td>\n",
       "      <td>0.00</td>\n",
       "      <td>7.68</td>\n",
       "      <td>8.18</td>\n",
       "      <td>1.76</td>\n",
       "      <td>6.42</td>\n",
       "    </tr>\n",
       "    <tr>\n",
       "      <th>3</th>\n",
       "      <td>3603704</td>\n",
       "      <td>BX11</td>\n",
       "      <td>135839</td>\n",
       "      <td>35677.95453</td>\n",
       "      <td>50.09</td>\n",
       "      <td>8.10</td>\n",
       "      <td>17.43</td>\n",
       "      <td>14.09</td>\n",
       "      <td>43.22</td>\n",
       "      <td>36.45</td>\n",
       "      <td>...</td>\n",
       "      <td>2189</td>\n",
       "      <td>5592</td>\n",
       "      <td>30.06</td>\n",
       "      <td>27.86</td>\n",
       "      <td>22.24</td>\n",
       "      <td>0.00</td>\n",
       "      <td>7.03</td>\n",
       "      <td>12.81</td>\n",
       "      <td>3.60</td>\n",
       "      <td>9.20</td>\n",
       "    </tr>\n",
       "    <tr>\n",
       "      <th>4</th>\n",
       "      <td>3603705</td>\n",
       "      <td>BX03</td>\n",
       "      <td>172247</td>\n",
       "      <td>39405.79222</td>\n",
       "      <td>44.72</td>\n",
       "      <td>14.24</td>\n",
       "      <td>14.89</td>\n",
       "      <td>12.38</td>\n",
       "      <td>36.82</td>\n",
       "      <td>54.24</td>\n",
       "      <td>...</td>\n",
       "      <td>1437</td>\n",
       "      <td>5436</td>\n",
       "      <td>16.80</td>\n",
       "      <td>41.00</td>\n",
       "      <td>22.29</td>\n",
       "      <td>0.03</td>\n",
       "      <td>8.45</td>\n",
       "      <td>11.43</td>\n",
       "      <td>2.39</td>\n",
       "      <td>9.04</td>\n",
       "    </tr>\n",
       "  </tbody>\n",
       "</table>\n",
       "<p>5 rows × 158 columns</p>\n",
       "</div>"
      ],
      "text/plain": [
       "      FIPS cd_id  Total Population  Population Density (per sq. mile)  \\\n",
       "0  3603701  BX08            106737                        31229.95006   \n",
       "1  3603702  BX12            134644                        19966.67839   \n",
       "2  3603703  BX10            121209                        12913.81703   \n",
       "3  3603704  BX11            135839                        35677.95453   \n",
       "4  3603705  BX03            172247                        39405.79222   \n",
       "\n",
       "   % Total Population: Male  % Total Population: 18 to 24 Years  \\\n",
       "0                     46.65                               10.73   \n",
       "1                     46.35                               11.35   \n",
       "2                     45.20                                8.62   \n",
       "3                     50.09                                8.10   \n",
       "4                     44.72                               14.24   \n",
       "\n",
       "   % Total Population: 25 to 34 Years  % Total Population: 35 to 44 Years  \\\n",
       "0                               15.04                               11.32   \n",
       "1                               14.29                               12.57   \n",
       "2                               13.74                               12.78   \n",
       "3                               17.43                               14.09   \n",
       "4                               14.89                               12.38   \n",
       "\n",
       "   % Population 5 Years And Over: Speak Only English  \\\n",
       "0                                              46.80   \n",
       "1                                              73.09   \n",
       "2                                              61.79   \n",
       "3                                              43.22   \n",
       "4                                              36.82   \n",
       "\n",
       "   % Population 5 Years And Over: Spanish or Spanish Creole  \\\n",
       "0                                              39.24          \n",
       "1                                              18.19          \n",
       "2                                              26.43          \n",
       "3                                              36.45          \n",
       "4                                              54.24          \n",
       "\n",
       "                                                                                ...                                                                                \\\n",
       "0                                                                               ...                                                                                 \n",
       "1                                                                               ...                                                                                 \n",
       "2                                                                               ...                                                                                 \n",
       "3                                                                               ...                                                                                 \n",
       "4                                                                               ...                                                                                 \n",
       "\n",
       "   Employed Civilian Population 16 Years And Over: Production, transportation, and material moving  occupations: Production occupations  \\\n",
       "0                                                665                                                                                      \n",
       "1                                               1156                                                                                      \n",
       "2                                                941                                                                                      \n",
       "3                                               2189                                                                                      \n",
       "4                                               1437                                                                                      \n",
       "\n",
       "   Employed Civilian Population 16 Years And Over: Production, transportation, and material moving  occupations: Transportation and material moving occupations  \\\n",
       "0                                               1518                                                                                                              \n",
       "1                                               4174                                                                                                              \n",
       "2                                               3433                                                                                                              \n",
       "3                                               5592                                                                                                              \n",
       "4                                               5436                                                                                                              \n",
       "\n",
       "   % Employed Civilian Population 16 Years And Over: Management, professional, and related occupations  \\\n",
       "0                                              42.66                                                     \n",
       "1                                              29.57                                                     \n",
       "2                                              36.20                                                     \n",
       "3                                              30.06                                                     \n",
       "4                                              16.80                                                     \n",
       "\n",
       "   % Employed Civilian Population 16 Years And Over: Service occupations  \\\n",
       "0                                              28.95                       \n",
       "1                                              33.98                       \n",
       "2                                              22.85                       \n",
       "3                                              27.86                       \n",
       "4                                              41.00                       \n",
       "\n",
       "   % Employed Civilian Population 16 Years And Over: Sales and office occupations  \\\n",
       "0                                              20.89                                \n",
       "1                                              20.40                                \n",
       "2                                              25.09                                \n",
       "3                                              22.24                                \n",
       "4                                              22.29                                \n",
       "\n",
       "   % Employed Civilian Population 16 Years And Over: Farming, fishing, and forestry occupations  \\\n",
       "0                                               0.24                                              \n",
       "1                                               0.00                                              \n",
       "2                                               0.00                                              \n",
       "3                                               0.00                                              \n",
       "4                                               0.03                                              \n",
       "\n",
       "   % Employed Civilian Population 16 Years And Over: Construction, extraction, and maintenance  occupations  \\\n",
       "0                                               2.65                                                          \n",
       "1                                               7.08                                                          \n",
       "2                                               7.68                                                          \n",
       "3                                               7.03                                                          \n",
       "4                                               8.45                                                          \n",
       "\n",
       "   % Employed Civilian Population 16 Years And Over: Production, transportation, and material moving  occupations  \\\n",
       "0                                               4.60                                                                \n",
       "1                                               8.97                                                                \n",
       "2                                               8.18                                                                \n",
       "3                                              12.81                                                                \n",
       "4                                              11.43                                                                \n",
       "\n",
       "   % Employed Civilian Population 16 Years And Over: Production, transportation, and material moving  occupations: Production occupations  \\\n",
       "0                                               1.40                                                                                        \n",
       "1                                               1.95                                                                                        \n",
       "2                                               1.76                                                                                        \n",
       "3                                               3.60                                                                                        \n",
       "4                                               2.39                                                                                        \n",
       "\n",
       "   % Employed Civilian Population 16 Years And Over: Production, transportation, and material moving  occupations: Transportation and material moving occupations  \n",
       "0                                               3.20                                                                                                               \n",
       "1                                               7.02                                                                                                               \n",
       "2                                               6.42                                                                                                               \n",
       "3                                               9.20                                                                                                               \n",
       "4                                               9.04                                                                                                               \n",
       "\n",
       "[5 rows x 158 columns]"
      ]
     },
     "execution_count": 94,
     "metadata": {},
     "output_type": "execute_result"
    }
   ],
   "source": [
    "pop.head()"
   ]
  },
  {
   "cell_type": "code",
   "execution_count": 95,
   "metadata": {
    "collapsed": false
   },
   "outputs": [
    {
     "name": "stdout",
     "output_type": "stream",
     "text": [
      "There are 59 unique community districts in this dataset\n",
      "['BX08' 'BX12' 'BX10' 'BX11' 'BX03' 'BX06' 'BX07' 'BX05' 'BX04' 'BX09'\n",
      " 'BX01' 'BX02' 'MN12' 'MN09' 'MN10' 'MN11111' 'MN08' 'MN07' 'MN05' 'MN04'\n",
      " 'MN06' 'MN03' 'MN01' 'MN02' 'SI03' 'SI02' 'SI01' 'BK01' 'BK04' 'BK03'\n",
      " 'BK02' 'BK06' 'BK08' 'BK16' 'BK05' 'BK18' 'BK17' 'BK09' 'BK07' 'BK10'\n",
      " 'BK12' 'BK14' 'BK15' 'BK11' 'BK13' 'QN01' 'QN03' 'QN07' 'QN11' 'QN13'\n",
      " 'QN08' 'QN04' 'QN06' 'QN02' 'QN05' 'QN09' 'QN12' 'QN10' 'QN14']\n"
     ]
    }
   ],
   "source": [
    "cd_id = pop['cd_id'].unique()\n",
    "print (\"There are %i unique community districts in this dataset\" %len(pop['cd_id'].unique()))\n",
    "print (cd_id)"
   ]
  },
  {
   "cell_type": "markdown",
   "metadata": {},
   "source": [
    "## This dataset has 59 unique community districts, which is the correct amount. But we still need to check to make sure that the districts themselves are correct."
   ]
  },
  {
   "cell_type": "code",
   "execution_count": null,
   "metadata": {
    "collapsed": false
   },
   "outputs": [],
   "source": [
    "# Before fully reading the insructions, was going to format districts in all datasets as \"## Borough\"  \n",
    "'''\n",
    "pop['cd_id'] = pop['cd_id'].map(lambda x: x.replace('BX', 'BRONX '))\n",
    "pop['cd_id'] = pop['cd_id'].map(lambda x: x.replace('MN', 'MANHATTAN '))\n",
    "pop['cd_id'] = pop['cd_id'].map(lambda x: x.replace('SI', 'STATEN_ISLAND '))\n",
    "pop['cd_id'] = pop['cd_id'].map(lambda x: x.replace('BK', 'BROOKLYN '))\n",
    "pop['cd_id'] = pop['cd_id'].map(lambda x: x.replace('QN', 'QUEENS '))\n",
    "cd_id = pop['cd_id'].unique()\n",
    "print (pop['cd_id'].unique())\n",
    "'''"
   ]
  },
  {
   "cell_type": "code",
   "execution_count": null,
   "metadata": {
    "collapsed": false
   },
   "outputs": [],
   "source": [
    "# Continuation of above process\n",
    "'''\n",
    "pop['commdist'] = None\n",
    "for i in range (0, len(pop)):\n",
    "    pop['commdist'][i] = pop['cd_id'][i].split(' ')[1] + ' ' + pop['cd_id'][i].split(' ')[0]\n",
    "print (pop['commdist'].unique())\n",
    "'''"
   ]
  },
  {
   "cell_type": "code",
   "execution_count": 96,
   "metadata": {
    "collapsed": false
   },
   "outputs": [
    {
     "name": "stdout",
     "output_type": "stream",
     "text": [
      "['BK01' 'BK02' 'BK03' 'BK04' 'BK05' 'BK06' 'BK07' 'BK08' 'BK09' 'BK10'\n",
      " 'BK11' 'BK12' 'BK13' 'BK14' 'BK15' 'BK16' 'BK17' 'BK18' 'BX01' 'BX02'\n",
      " 'BX03' 'BX04' 'BX05' 'BX06' 'BX07' 'BX08' 'BX09' 'BX10' 'BX11' 'BX12'\n",
      " 'MN01' 'MN02' 'MN03' 'MN04' 'MN05' 'MN06' 'MN07' 'MN08' 'MN09' 'MN10'\n",
      " 'MN11111' 'MN12' 'QN01' 'QN02' 'QN03' 'QN04' 'QN05' 'QN06' 'QN07' 'QN08'\n",
      " 'QN09' 'QN10' 'QN11' 'QN12' 'QN13' 'QN14' 'SI01' 'SI02' 'SI03']\n"
     ]
    }
   ],
   "source": [
    "cd_id.sort()\n",
    "print (cd_id)"
   ]
  },
  {
   "cell_type": "markdown",
   "metadata": {},
   "source": [
    "### Other than one Manhattan Community District, all are correct. "
   ]
  },
  {
   "cell_type": "code",
   "execution_count": 97,
   "metadata": {
    "collapsed": false
   },
   "outputs": [
    {
     "name": "stdout",
     "output_type": "stream",
     "text": [
      "['BK01' 'BK02' 'BK03' 'BK04' 'BK05' 'BK06' 'BK07' 'BK08' 'BK09' 'BK10'\n",
      " 'BK11' 'BK12' 'BK13' 'BK14' 'BK15' 'BK16' 'BK17' 'BK18' 'BX01' 'BX02'\n",
      " 'BX03' 'BX04' 'BX05' 'BX06' 'BX07' 'BX08' 'BX09' 'BX10' 'BX11' 'BX12'\n",
      " 'MN01' 'MN02' 'MN03' 'MN04' 'MN05' 'MN06' 'MN07' 'MN08' 'MN09' 'MN10'\n",
      " 'MN11111' 'MN12' 'QN01' 'QN02' 'QN03' 'QN04' 'QN05' 'QN06' 'QN07' 'QN08'\n",
      " 'QN09' 'QN10' 'QN11' 'QN12' 'QN13' 'QN14' 'SI01' 'SI02' 'SI03']\n"
     ]
    }
   ],
   "source": [
    "pop['cd_id'] = pop['cd_id'].map(lambda x: x.replace('MANHATTAN 11111', 'MANHATTAN 11'))\n",
    "cd_id = pop['cd_id'].unique()\n",
    "cd_id.sort()\n",
    "print (cd_id)"
   ]
  },
  {
   "cell_type": "markdown",
   "metadata": {
    "collapsed": true
   },
   "source": [
    "### Who might be more likely to call 911?"
   ]
  },
  {
   "cell_type": "markdown",
   "metadata": {
    "collapsed": true
   },
   "source": []
  },
  {
   "cell_type": "code",
   "execution_count": null,
   "metadata": {
    "collapsed": true
   },
   "outputs": [],
   "source": [
    "# Load the infrastructure by community district dataset\n",
    "infra_struct = pd.read_csv(\"http://cosmo.nyu.edu/~fb55/PUI2016/data/ACS_Computer_Use_and_Internet_2014_1Year_Estimate.csv\")"
   ]
  },
  {
   "cell_type": "code",
   "execution_count": null,
   "metadata": {
    "collapsed": false
   },
   "outputs": [],
   "source": [
    "print (len(infra_struct))\n",
    "print (infra_struct.columns)\n",
    "#infra_struct.head()"
   ]
  },
  {
   "cell_type": "code",
   "execution_count": null,
   "metadata": {
    "collapsed": false
   },
   "outputs": [],
   "source": [
    "uniqDist = infra_struct['Qualifying Name'].unique()\n",
    "print (len(uniqDist))\n",
    "print (uniqDist)"
   ]
  },
  {
   "cell_type": "code",
   "execution_count": null,
   "metadata": {
    "collapsed": false
   },
   "outputs": [],
   "source": [
    "infra_struct['BoardNum'] = np.ones(len(infra_struct), np.float)\n",
    "for i in range (0, len(infra_struct)):\n",
    "    infra_struct['BoardNum'][i] = str(infra_struct['Qualifying Name'][i]).split('District ')[1].split('--')[0] + \" \" + str(infra_struct['Qualifying Name'][i]).split('-')[1].split(' ')[0]\n",
    "print (infra_struct['BoardNum'])"
   ]
  },
  {
   "cell_type": "code",
   "execution_count": null,
   "metadata": {
    "collapsed": false
   },
   "outputs": [],
   "source": [
    "infra_struct['valid'] = np.ones(len(infra_struct), np.float)\n",
    "for i in range (0, len(infra_struct)):\n",
    "    try:\n",
    "        if int(infra_struct['BoardNum'][i].split(' &')[0]) < 10:\n",
    "            infra_struct['valid'][i] = 'False'\n",
    "    except ValueError:\n",
    "        if int(infra_struct['BoardNum'][i].split(' ')[0]) < 10:\n",
    "            infra_struct['BoardNum'][i] = \"0\" + infra_struct['BoardNum'][i]\n",
    "            infra_struct['valid'][i] = \"True\"\n",
    "        else: infra_struct['valid'][i] = \"True\""
   ]
  },
  {
   "cell_type": "code",
   "execution_count": null,
   "metadata": {
    "collapsed": false
   },
   "outputs": [],
   "source": [
    "#test = infra_struct[['BoardNum', 'valid']]\n",
    "#print (test)"
   ]
  },
  {
   "cell_type": "code",
   "execution_count": null,
   "metadata": {
    "collapsed": true
   },
   "outputs": [],
   "source": [
    "for i in range (0, len(infra_struct)):\n",
    "    try:\n",
    "        if infra_struct['valid'][i] == 'False':\n",
    "            infra_struct['BoardNum'] = \n",
    "        if int(infra_struct['BoardNum'][i].split(' ')[0]) < 10:\n",
    "            infra_struct['BoardNum'][i] = \"0\" + infra_struct['BoardNum'][i]\n",
    "            infra_struct['valid'][i] = \"True\"\n",
    "        else: infra_struct['valid'][i] = \"True\""
   ]
  },
  {
   "cell_type": "code",
   "execution_count": null,
   "metadata": {
    "collapsed": true
   },
   "outputs": [],
   "source": []
  }
 ],
 "metadata": {
  "kernelspec": {
   "display_name": "PUI2016_Python2",
   "language": "python",
   "name": "pui2016_python2"
  },
  "language_info": {
   "codemirror_mode": {
    "name": "ipython",
    "version": 2
   },
   "file_extension": ".py",
   "mimetype": "text/x-python",
   "name": "python",
   "nbconvert_exporter": "python",
   "pygments_lexer": "ipython2",
   "version": "2.7.12"
  }
 },
 "nbformat": 4,
 "nbformat_minor": 0
}
