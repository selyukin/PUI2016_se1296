{
 "cells": [
  {
   "cell_type": "markdown",
   "metadata": {},
   "source": [
    "# HW 12 - Extra Credit\n",
    "#### I used the code provided in the skeleton notebook at https://github.com/fedhere/PUI2016_fb55/blob/master/HW12_fb55/Assignment%201%20instructions.ipynb, as well as code from Sebasian Bana (noted below). The SQL query itself is mine."
   ]
  },
  {
   "cell_type": "code",
   "execution_count": 34,
   "metadata": {
    "collapsed": false
   },
   "outputs": [
    {
     "name": "stdout",
     "output_type": "stream",
     "text": [
      "Populating the interactive namespace from numpy and matplotlib\n"
     ]
    }
   ],
   "source": [
    "import ast\n",
    "# note this is python2 compatible only. the pykriging code is also python2 only\n",
    "import urllib2\n",
    "import urllib\n",
    "from cStringIO import StringIO\n",
    "import json\n",
    "import geopandas as gp\n",
    "import pandas as pd\n",
    "import os\n",
    "import numpy as np\n",
    "import pylab as pl\n",
    "%pylab inline"
   ]
  },
  {
   "cell_type": "code",
   "execution_count": 2,
   "metadata": {
    "collapsed": true
   },
   "outputs": [],
   "source": [
    "SQL_SOURCE = 'https://fb55.carto.com/api/v2/sql'\n",
    "\n",
    "def queryCartoDB(query, format='CSV', source=SQL_SOURCE):\n",
    "    \"\"\" queries a url with an sql compatible search\n",
    "    Arguments:\n",
    "    query : the sql query string\n",
    "    format : the expected format\n",
    "    source \" the url of the API\n",
    "    \"\"\"\n",
    "    data = urllib.urlencode({'format': format, 'q': query})\n",
    "    try:\n",
    "        response = urllib2.urlopen(source, data)\n",
    "    except urllib2.HTTPError, e:\n",
    "        raise ValueError('\\n'.join(ast.literal_eval(e.readline())['error']))\n",
    "    except Exception:\n",
    "        raise\n",
    "    return StringIO(response.read())"
   ]
  },
  {
   "cell_type": "code",
   "execution_count": 4,
   "metadata": {
    "collapsed": false
   },
   "outputs": [
    {
     "data": {
      "text/html": [
       "<div>\n",
       "<table border=\"1\" class=\"dataframe\">\n",
       "  <thead>\n",
       "    <tr style=\"text-align: right;\">\n",
       "      <th></th>\n",
       "      <th>count</th>\n",
       "      <th>zipcodes</th>\n",
       "    </tr>\n",
       "  </thead>\n",
       "  <tbody>\n",
       "    <tr>\n",
       "      <th>0</th>\n",
       "      <td>1699</td>\n",
       "      <td>10461</td>\n",
       "    </tr>\n",
       "    <tr>\n",
       "      <th>1</th>\n",
       "      <td>405</td>\n",
       "      <td>11373</td>\n",
       "    </tr>\n",
       "    <tr>\n",
       "      <th>2</th>\n",
       "      <td>1698</td>\n",
       "      <td>10451</td>\n",
       "    </tr>\n",
       "    <tr>\n",
       "      <th>3</th>\n",
       "      <td>220</td>\n",
       "      <td>11691</td>\n",
       "    </tr>\n",
       "    <tr>\n",
       "      <th>4</th>\n",
       "      <td>246</td>\n",
       "      <td>11375</td>\n",
       "    </tr>\n",
       "    <tr>\n",
       "      <th>5</th>\n",
       "      <td>494</td>\n",
       "      <td>10466</td>\n",
       "    </tr>\n",
       "    <tr>\n",
       "      <th>6</th>\n",
       "      <td>713</td>\n",
       "      <td>11212</td>\n",
       "    </tr>\n",
       "    <tr>\n",
       "      <th>7</th>\n",
       "      <td>167</td>\n",
       "      <td>11229</td>\n",
       "    </tr>\n",
       "    <tr>\n",
       "      <th>8</th>\n",
       "      <td>521</td>\n",
       "      <td>11215</td>\n",
       "    </tr>\n",
       "    <tr>\n",
       "      <th>9</th>\n",
       "      <td>386</td>\n",
       "      <td>11220</td>\n",
       "    </tr>\n",
       "    <tr>\n",
       "      <th>10</th>\n",
       "      <td>641</td>\n",
       "      <td>11355</td>\n",
       "    </tr>\n",
       "    <tr>\n",
       "      <th>11</th>\n",
       "      <td>376</td>\n",
       "      <td>11213</td>\n",
       "    </tr>\n",
       "    <tr>\n",
       "      <th>12</th>\n",
       "      <td>567</td>\n",
       "      <td>11418</td>\n",
       "    </tr>\n",
       "    <tr>\n",
       "      <th>13</th>\n",
       "      <td>411</td>\n",
       "      <td>10310</td>\n",
       "    </tr>\n",
       "    <tr>\n",
       "      <th>14</th>\n",
       "      <td>1829</td>\n",
       "      <td>11203</td>\n",
       "    </tr>\n",
       "    <tr>\n",
       "      <th>15</th>\n",
       "      <td>281</td>\n",
       "      <td>11102</td>\n",
       "    </tr>\n",
       "    <tr>\n",
       "      <th>16</th>\n",
       "      <td>222</td>\n",
       "      <td>11234</td>\n",
       "    </tr>\n",
       "    <tr>\n",
       "      <th>17</th>\n",
       "      <td>1156</td>\n",
       "      <td>11237</td>\n",
       "    </tr>\n",
       "    <tr>\n",
       "      <th>18</th>\n",
       "      <td>421</td>\n",
       "      <td>11219</td>\n",
       "    </tr>\n",
       "    <tr>\n",
       "      <th>19</th>\n",
       "      <td>822</td>\n",
       "      <td>10457</td>\n",
       "    </tr>\n",
       "    <tr>\n",
       "      <th>20</th>\n",
       "      <td>320</td>\n",
       "      <td>11235</td>\n",
       "    </tr>\n",
       "    <tr>\n",
       "      <th>21</th>\n",
       "      <td>466</td>\n",
       "      <td>11206</td>\n",
       "    </tr>\n",
       "    <tr>\n",
       "      <th>22</th>\n",
       "      <td>1072</td>\n",
       "      <td>10456</td>\n",
       "    </tr>\n",
       "    <tr>\n",
       "      <th>23</th>\n",
       "      <td>926</td>\n",
       "      <td>11040</td>\n",
       "    </tr>\n",
       "    <tr>\n",
       "      <th>24</th>\n",
       "      <td>940</td>\n",
       "      <td>11201</td>\n",
       "    </tr>\n",
       "    <tr>\n",
       "      <th>25</th>\n",
       "      <td>2164</td>\n",
       "      <td>10467</td>\n",
       "    </tr>\n",
       "    <tr>\n",
       "      <th>26</th>\n",
       "      <td>293</td>\n",
       "      <td>11432</td>\n",
       "    </tr>\n",
       "    <tr>\n",
       "      <th>27</th>\n",
       "      <td>447</td>\n",
       "      <td>10305</td>\n",
       "    </tr>\n",
       "    <tr>\n",
       "      <th>28</th>\n",
       "      <td>145</td>\n",
       "      <td>10309</td>\n",
       "    </tr>\n",
       "  </tbody>\n",
       "</table>\n",
       "</div>"
      ],
      "text/plain": [
       "    count  zipcodes\n",
       "0    1699     10461\n",
       "1     405     11373\n",
       "2    1698     10451\n",
       "3     220     11691\n",
       "4     246     11375\n",
       "5     494     10466\n",
       "6     713     11212\n",
       "7     167     11229\n",
       "8     521     11215\n",
       "9     386     11220\n",
       "10    641     11355\n",
       "11    376     11213\n",
       "12    567     11418\n",
       "13    411     10310\n",
       "14   1829     11203\n",
       "15    281     11102\n",
       "16    222     11234\n",
       "17   1156     11237\n",
       "18    421     11219\n",
       "19    822     10457\n",
       "20    320     11235\n",
       "21    466     11206\n",
       "22   1072     10456\n",
       "23    926     11040\n",
       "24    940     11201\n",
       "25   2164     10467\n",
       "26    293     11432\n",
       "27    447     10305\n",
       "28    145     10309"
      ]
     },
     "execution_count": 4,
     "metadata": {},
     "output_type": "execute_result"
    }
   ],
   "source": [
    "facilityQuery = '''SELECT count(*), zipcodes\n",
    "FROM nycasthmasdismissals\n",
    "GROUP BY zipcodes\n",
    "'''\n",
    "facilityStream = queryCartoDB(facilityQuery, format='JSON')\n",
    "facilityData   = json.loads(facilityStream.read())\n",
    "facilityData\n",
    "facilities     = pd.DataFrame.from_dict(facilityData['rows'])\n",
    "facilities"
   ]
  },
  {
   "cell_type": "code",
   "execution_count": null,
   "metadata": {
    "collapsed": true
   },
   "outputs": [],
   "source": [
    "# Zipcodes shapefile from HW 11, Assignment 2\n",
    "# url = \"https://raw.githubusercontent.com/fedhere/PUI2016_fb55/master/HW11_fb55/nyc-zip-code-tabulation-areas-polygons.geojson\"\n",
    "# os.system(\"curl -O \" + url)\n",
    "# os.system(\"mv nyc-zip-code-tabulation-areas-polygons.geojson \" + os.getenv(\"PUIDATA\") + \"/zipcodes.geojson\")"
   ]
  },
  {
   "cell_type": "code",
   "execution_count": 10,
   "metadata": {
    "collapsed": false
   },
   "outputs": [],
   "source": [
    "zipcodes = gp.read_file(os.getenv(\"PUIDATA\") + \"/zipcodes.geojson\")\n",
    "zipcodes = zipcodes[['geometry', 'postalCode']]"
   ]
  },
  {
   "cell_type": "code",
   "execution_count": 11,
   "metadata": {
    "collapsed": false
   },
   "outputs": [
    {
     "data": {
      "text/html": [
       "<div>\n",
       "<table border=\"1\" class=\"dataframe\">\n",
       "  <thead>\n",
       "    <tr style=\"text-align: right;\">\n",
       "      <th></th>\n",
       "      <th>geometry</th>\n",
       "      <th>postalCode</th>\n",
       "      <th>centers</th>\n",
       "    </tr>\n",
       "  </thead>\n",
       "  <tbody>\n",
       "    <tr>\n",
       "      <th>0</th>\n",
       "      <td>POLYGON ((-73.86942457284175 40.74915687096787...</td>\n",
       "      <td>11372</td>\n",
       "      <td>POINT (-73.88357286802307 40.75166307169953)</td>\n",
       "    </tr>\n",
       "    <tr>\n",
       "      <th>1</th>\n",
       "      <td>POLYGON ((-73.71068374074007 40.75004039450917...</td>\n",
       "      <td>11004</td>\n",
       "      <td>POINT (-73.71160619542474 40.74537094501076)</td>\n",
       "    </tr>\n",
       "    <tr>\n",
       "      <th>2</th>\n",
       "      <td>POLYGON ((-73.70098278625547 40.73889569923034...</td>\n",
       "      <td>11040</td>\n",
       "      <td>POINT (-73.70344982649 40.74873122436191)</td>\n",
       "    </tr>\n",
       "    <tr>\n",
       "      <th>3</th>\n",
       "      <td>POLYGON ((-73.72270447144122 40.75373371438336...</td>\n",
       "      <td>11426</td>\n",
       "      <td>POINT (-73.72400273065516 40.73653495923434)</td>\n",
       "    </tr>\n",
       "    <tr>\n",
       "      <th>4</th>\n",
       "      <td>POLYGON ((-73.81088634744755 40.72717187575918...</td>\n",
       "      <td>11365</td>\n",
       "      <td>POINT (-73.7946136039439 40.73990335985973)</td>\n",
       "    </tr>\n",
       "  </tbody>\n",
       "</table>\n",
       "</div>"
      ],
      "text/plain": [
       "                                            geometry postalCode  \\\n",
       "0  POLYGON ((-73.86942457284175 40.74915687096787...      11372   \n",
       "1  POLYGON ((-73.71068374074007 40.75004039450917...      11004   \n",
       "2  POLYGON ((-73.70098278625547 40.73889569923034...      11040   \n",
       "3  POLYGON ((-73.72270447144122 40.75373371438336...      11426   \n",
       "4  POLYGON ((-73.81088634744755 40.72717187575918...      11365   \n",
       "\n",
       "                                        centers  \n",
       "0  POINT (-73.88357286802307 40.75166307169953)  \n",
       "1  POINT (-73.71160619542474 40.74537094501076)  \n",
       "2     POINT (-73.70344982649 40.74873122436191)  \n",
       "3  POINT (-73.72400273065516 40.73653495923434)  \n",
       "4   POINT (-73.7946136039439 40.73990335985973)  "
      ]
     },
     "execution_count": 11,
     "metadata": {},
     "output_type": "execute_result"
    }
   ],
   "source": [
    "zipcodes['centers'] = zipcodes.centroid\n",
    "zipcodes.head()"
   ]
  },
  {
   "cell_type": "code",
   "execution_count": 25,
   "metadata": {
    "collapsed": false
   },
   "outputs": [],
   "source": [
    "zipcodes.rename(columns = {'postalCode':'zipcodes'}, inplace=True)\n",
    "zipcodes['zipcodes'] = zipcodes['zipcodes'].astype(int)"
   ]
  },
  {
   "cell_type": "code",
   "execution_count": 31,
   "metadata": {
    "collapsed": false
   },
   "outputs": [
    {
     "name": "stdout",
     "output_type": "stream",
     "text": [
      "29\n"
     ]
    },
    {
     "data": {
      "text/html": [
       "<div>\n",
       "<table border=\"1\" class=\"dataframe\">\n",
       "  <thead>\n",
       "    <tr style=\"text-align: right;\">\n",
       "      <th></th>\n",
       "      <th>zipcodes</th>\n",
       "      <th>count</th>\n",
       "      <th>centers</th>\n",
       "    </tr>\n",
       "  </thead>\n",
       "  <tbody>\n",
       "    <tr>\n",
       "      <th>0</th>\n",
       "      <td>10461</td>\n",
       "      <td>1699</td>\n",
       "      <td>POINT (-73.84080867380536 40.84700067263105)</td>\n",
       "    </tr>\n",
       "    <tr>\n",
       "      <th>1</th>\n",
       "      <td>11373</td>\n",
       "      <td>405</td>\n",
       "      <td>POINT (-73.87842706401592 40.73885362850201)</td>\n",
       "    </tr>\n",
       "    <tr>\n",
       "      <th>2</th>\n",
       "      <td>10451</td>\n",
       "      <td>1698</td>\n",
       "      <td>POINT (-73.92373406533598 40.82077879319685)</td>\n",
       "    </tr>\n",
       "    <tr>\n",
       "      <th>3</th>\n",
       "      <td>11691</td>\n",
       "      <td>220</td>\n",
       "      <td>POINT (-73.76192276783287 40.60074018580426)</td>\n",
       "    </tr>\n",
       "    <tr>\n",
       "      <th>4</th>\n",
       "      <td>11375</td>\n",
       "      <td>246</td>\n",
       "      <td>POINT (-73.84627891822217 40.72069287356896)</td>\n",
       "    </tr>\n",
       "  </tbody>\n",
       "</table>\n",
       "</div>"
      ],
      "text/plain": [
       "   zipcodes  count                                       centers\n",
       "0     10461   1699  POINT (-73.84080867380536 40.84700067263105)\n",
       "1     11373    405  POINT (-73.87842706401592 40.73885362850201)\n",
       "2     10451   1698  POINT (-73.92373406533598 40.82077879319685)\n",
       "3     11691    220  POINT (-73.76192276783287 40.60074018580426)\n",
       "4     11375    246  POINT (-73.84627891822217 40.72069287356896)"
      ]
     },
     "execution_count": 31,
     "metadata": {},
     "output_type": "execute_result"
    }
   ],
   "source": [
    "asthma_zip_shp = facilities.merge(zipcodes, how = 'left', on = 'zipcodes')\n",
    "asthma_zip_shp = asthma_zip_shp[[1, 0, 3]]\n",
    "print (len(asthma_zip_shp))\n",
    "asthma_zip_shp.head(5)"
   ]
  },
  {
   "cell_type": "code",
   "execution_count": 35,
   "metadata": {
    "collapsed": false
   },
   "outputs": [
    {
     "data": {
      "text/plain": [
       "<matplotlib.colorbar.Colorbar at 0x7fa64bfffdd0>"
      ]
     },
     "execution_count": 35,
     "metadata": {},
     "output_type": "execute_result"
    },
    {
     "data": {
      "image/png": "[encoded data removed]",
      "text/plain": [
       "<matplotlib.figure.Figure at 0x7fa64ea92390>"
      ]
     },
     "metadata": {},
     "output_type": "display_data"
    }
   ],
   "source": [
    "krigdata = np.zeros((len(asthma_zip_shp),3))\n",
    "\n",
    "#code from Sebastian (sbg389)\n",
    "# Loop through the dataframe and populate the x,y and count\n",
    "for x in range(0, len(asthma_zip_shp)):\n",
    "    krigdata[x][0] = asthma_zip_shp.centers[x].x\n",
    "    krigdata[x][1] = asthma_zip_shp.centers[x].y\n",
    "    krigdata[x][2] = asthma_zip_shp['count'][x]\n",
    "    \n",
    "pl.figure(figsize=(10,10))\n",
    "pl.scatter(krigdata[:,0], krigdata[:,1], c=krigdata[:,2], s=100, cmap='bone')   # (x, y, color=count)\n",
    "pl.xlabel(\"Easting (m)\", fontsize=15)\n",
    "pl.ylabel(\"Northing (m)\", fontsize=15)\n",
    "pl.title('Number of dismissals') ;\n",
    "pl.colorbar()"
   ]
  },
  {
   "cell_type": "code",
   "execution_count": null,
   "metadata": {
    "collapsed": true
   },
   "outputs": [],
   "source": []
  }
 ],
 "metadata": {
  "kernelspec": {
   "display_name": "PUI2016_Python2",
   "language": "python",
   "name": "pui2016_python2"
  },
  "language_info": {
   "codemirror_mode": {
    "name": "ipython",
    "version": 2
   },
   "file_extension": ".py",
   "mimetype": "text/x-python",
   "name": "python",
   "nbconvert_exporter": "python",
   "pygments_lexer": "ipython2",
   "version": "2.7.12"
  }
 },
 "nbformat": 4,
 "nbformat_minor": 0
}
